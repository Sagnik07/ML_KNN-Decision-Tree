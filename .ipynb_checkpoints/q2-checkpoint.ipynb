{
 "cells": [
  {
   "cell_type": "code",
   "execution_count": 1,
   "metadata": {
    "colab": {
     "base_uri": "https://localhost:8080/",
     "height": 124
    },
    "colab_type": "code",
    "executionInfo": {
     "elapsed": 23560,
     "status": "ok",
     "timestamp": 1580578827585,
     "user": {
      "displayName": "SAGNIK GUPTA",
      "photoUrl": "",
      "userId": "16842988992457144742"
     },
     "user_tz": -330
    },
    "id": "qOJsPgt9eCpi",
    "outputId": "f1e2c64f-cceb-49bc-f27e-5139c5458d33"
   },
   "outputs": [
    {
     "name": "stdout",
     "output_type": "stream",
     "text": [
      "Go to this URL in a browser: https://accounts.google.com/o/oauth2/auth?client_id=947318989803-6bn6qk8qdgf4n4g3pfee6491hc0brc4i.apps.googleusercontent.com&redirect_uri=urn%3aietf%3awg%3aoauth%3a2.0%3aoob&response_type=code&scope=email%20https%3a%2f%2fwww.googleapis.com%2fauth%2fdocs.test%20https%3a%2f%2fwww.googleapis.com%2fauth%2fdrive%20https%3a%2f%2fwww.googleapis.com%2fauth%2fdrive.photos.readonly%20https%3a%2f%2fwww.googleapis.com%2fauth%2fpeopleapi.readonly\n",
      "\n",
      "Enter your authorization code:\n",
      "··········\n",
      "Mounted at /content/drive\n"
     ]
    }
   ],
   "source": [
    "from google.colab import drive\n",
    "drive.mount('/content/drive')"
   ]
  },
  {
   "cell_type": "code",
   "execution_count": 0,
   "metadata": {
    "colab": {},
    "colab_type": "code",
    "id": "5-2PqWo48KpR"
   },
   "outputs": [],
   "source": [
    "import pandas as pd \n",
    "from pandas import DataFrame\n",
    "import math\n",
    "import numpy as np\n",
    "from numpy import genfromtxt\n",
    "import sklearn\n",
    "from collections import Counter\n",
    "from sklearn.metrics import accuracy_score\n",
    "from sklearn.metrics import precision_score\n",
    "from sklearn.metrics import recall_score\n",
    "from sklearn.metrics import f1_score\n",
    "from sklearn.metrics import confusion_matrix\n",
    "import matplotlib.pyplot as plt\n",
    "import random"
   ]
  },
  {
   "cell_type": "markdown",
   "metadata": {
    "colab_type": "text",
    "id": "RIJwRuFiRFt9"
   },
   "source": [
    "### **Training Data**\n",
    "The data is read from the files and the missing column value is replaced with the mode of that column. Then it is divided into training and validation sets."
   ]
  },
  {
   "cell_type": "code",
   "execution_count": 0,
   "metadata": {
    "colab": {},
    "colab_type": "code",
    "id": "VDy_j1o_Nhco"
   },
   "outputs": [],
   "source": [
    "df2=pd.read_csv('/content/drive/My Drive/Assignment1 Dataset//Datasets/q2/train.csv',header=None)\n",
    "for col in df2.columns:\n",
    "  df2[col]=df2[col].replace('?',df2[col].mode()[0])\n",
    "# df=df2.drop(11,axis=1)\n",
    "labels = ['e','p']\n",
    "data = df2.to_numpy()\n",
    "np.random.shuffle(data)\n",
    "validation_data = data[:500, 1:]\n",
    "validation_label = data[:500, 0]\n",
    "train_data = data[500:, 1:]\n",
    "train_label = data[500:, 0]"
   ]
  },
  {
   "cell_type": "markdown",
   "metadata": {
    "colab_type": "text",
    "id": "VwqPitIu8GtY"
   },
   "source": [
    "### **One Hot Encoding**\n",
    "One hot encoding is performed on both the training and validation datasets."
   ]
  },
  {
   "cell_type": "code",
   "execution_count": 0,
   "metadata": {
    "colab": {},
    "colab_type": "code",
    "id": "AilPXRkxQLbu"
   },
   "outputs": [],
   "source": [
    "attributes = [['b','c','x','f','k','s'],['f','g','y','s'],['n','b','c','g','r','p','u','e','w','y'],['t','f'],\n",
    "              ['a','l','c','y','f','m','n','p','s'],['a','d','f','n'],['c','w','d'],['b','n'],\n",
    "              ['k','n','b','h','g','r','o','p','u','e','w','y'],['e','t'],['b','c','u','e','z','r'],['f','y','k','s'],['f','y','k','s'],\n",
    "              ['n','b','c','g','o','p','e','w','y'],['n','b','c','g','o','p','e','w','y'],['p','u'],\n",
    "              ['n','o','w','y'],['n','o','t'],['c','e','f','l','n','p','s','z'],['k','n','b','h','r','o','u','w','y'],\n",
    "              ['a','c','n','s','v','y'],['g','l','m','p','u','w','d']]\n",
    "j=0\n",
    "validation_df = pd.DataFrame()\n",
    "# validation_data.shape\n",
    "for i in validation_data.T:\n",
    "  dummies = pd.get_dummies(i, prefix='', prefix_sep='')\n",
    "  dummies = dummies.T.reindex(attributes[j]).T.fillna(0)\n",
    "  j = j+1\n",
    "  validation_df=pd.concat([validation_df,dummies],axis=1, sort=False)\n",
    "\n",
    "j=0\n",
    "train_df = pd.DataFrame()\n",
    "for i in train_data.T:\n",
    "  dummies = pd.get_dummies(i, prefix='', prefix_sep='')\n",
    "  dummies = dummies.T.reindex(attributes[j]).T.fillna(0)\n",
    "  j = j+1\n",
    "  train_df=pd.concat([train_df,dummies],axis=1, sort=False)\n",
    "\n",
    "validation_df1=validation_df.to_numpy()\n",
    "train_df1 = train_df.to_numpy()\n",
    "# print(validation_df1)\n",
    "# print(train_df1)"
   ]
  },
  {
   "cell_type": "markdown",
   "metadata": {
    "colab_type": "text",
    "id": "gBiBNPur8ipL"
   },
   "source": [
    "### **Euclidean Distance metrics**\n",
    "The euclidean distance between the actual and predicted data is calculated."
   ]
  },
  {
   "cell_type": "code",
   "execution_count": 0,
   "metadata": {
    "colab": {},
    "colab_type": "code",
    "id": "ct9j7RZm756B"
   },
   "outputs": [],
   "source": [
    "def euclidean_distance(row):\n",
    "  dist = (np.sum((train_df1-row)**2,axis=1))\n",
    "  return dist"
   ]
  },
  {
   "cell_type": "markdown",
   "metadata": {
    "colab_type": "text",
    "id": "hCVLoH1mRyY3"
   },
   "source": [
    "### **Manhattan Distance metrics**\n",
    "The manhattan distance between the actual and predicted data is calculated."
   ]
  },
  {
   "cell_type": "code",
   "execution_count": 0,
   "metadata": {
    "colab": {},
    "colab_type": "code",
    "id": "TLegAA3FRzrz"
   },
   "outputs": [],
   "source": [
    "def manhattan_distance(row):\n",
    "  dist = np.sum(abs(train_df1-row),axis=1)\n",
    "  return dist"
   ]
  },
  {
   "cell_type": "markdown",
   "metadata": {
    "colab_type": "text",
    "id": "gwl4kr8M8pcg"
   },
   "source": [
    "## **Majority Voting**\n",
    "Voting is done on the k nearest neighbours and the class getting the majority number of votes is returned."
   ]
  },
  {
   "cell_type": "code",
   "execution_count": 0,
   "metadata": {
    "colab": {},
    "colab_type": "code",
    "id": "gFhftaAl7_WI"
   },
   "outputs": [],
   "source": [
    "def find_majority_label(k, distance):\n",
    "  index = np.argsort(distance)\n",
    "  index = index[:k]\n",
    "  label = train_label[index]\n",
    "\n",
    "  majority_label = Counter(label).most_common(1)\n",
    "  return majority_label[0][0]"
   ]
  },
  {
   "cell_type": "markdown",
   "metadata": {
    "colab_type": "text",
    "id": "T2uxP8Ph24Zh"
   },
   "source": [
    "## **Random Guessing**\n",
    "A class from the total possible classes is randomly guessed and returned."
   ]
  },
  {
   "cell_type": "code",
   "execution_count": 0,
   "metadata": {
    "colab": {},
    "colab_type": "code",
    "id": "c8Tq7ak11i3z"
   },
   "outputs": [],
   "source": [
    "def random_guessing():\n",
    "  return random.choice(labels)"
   ]
  },
  {
   "cell_type": "markdown",
   "metadata": {
    "colab_type": "text",
    "id": "5YlSOmMRVM6J"
   },
   "source": [
    "## **Predictions**\n",
    "This method is performing the KNN classification using Euclidean distance as the distance metric. Here, we use different values of k ranging from 3 to 9. Analyzing the results, we see that for all K values, we get accuracy of 100%. For k=5:\n",
    "*   Accuracy: 100%\n",
    "*   Precision score: 1.0\n",
    "*   Recall score: 1.0\n",
    "*   F1 score: 1.0\n",
    "\n",
    "We also display the confusion matrix for each k."
   ]
  },
  {
   "cell_type": "code",
   "execution_count": 7,
   "metadata": {
    "colab": {
     "base_uri": "https://localhost:8080/",
     "height": 746
    },
    "colab_type": "code",
    "executionInfo": {
     "elapsed": 5610,
     "status": "ok",
     "timestamp": 1580568775955,
     "user": {
      "displayName": "SAGNIK GUPTA",
      "photoUrl": "",
      "userId": "16842988992457144742"
     },
     "user_tz": -330
    },
    "id": "1hYJ9p1j8Gt8",
    "outputId": "a72349a3-b5ad-4e21-ffdc-e9df2e1ab7af"
   },
   "outputs": [
    {
     "name": "stdout",
     "output_type": "stream",
     "text": [
      "k= 3 Accuracy:  100.0\n",
      "k= 3 Precision score:  1.0\n",
      "k= 3 Recall score:  1.0\n",
      "k= 3 F1 score:  1.0\n",
      "[[192   0]\n",
      " [  0 308]]\n",
      "k= 4 Accuracy:  100.0\n",
      "k= 4 Precision score:  1.0\n",
      "k= 4 Recall score:  1.0\n",
      "k= 4 F1 score:  1.0\n",
      "[[192   0]\n",
      " [  0 308]]\n",
      "k= 5 Accuracy:  100.0\n",
      "k= 5 Precision score:  1.0\n",
      "k= 5 Recall score:  1.0\n",
      "k= 5 F1 score:  1.0\n",
      "[[192   0]\n",
      " [  0 308]]\n",
      "k= 6 Accuracy:  100.0\n",
      "k= 6 Precision score:  1.0\n",
      "k= 6 Recall score:  1.0\n",
      "k= 6 F1 score:  1.0\n",
      "[[192   0]\n",
      " [  0 308]]\n",
      "k= 7 Accuracy:  100.0\n",
      "k= 7 Precision score:  1.0\n",
      "k= 7 Recall score:  1.0\n",
      "k= 7 F1 score:  1.0\n",
      "[[192   0]\n",
      " [  0 308]]\n",
      "k= 8 Accuracy:  100.0\n",
      "k= 8 Precision score:  1.0\n",
      "k= 8 Recall score:  1.0\n",
      "k= 8 F1 score:  1.0\n",
      "[[192   0]\n",
      " [  0 308]]\n",
      "k= 9 Accuracy:  100.0\n",
      "k= 9 Precision score:  1.0\n",
      "k= 9 Recall score:  1.0\n",
      "k= 9 F1 score:  1.0\n",
      "[[192   0]\n",
      " [  0 308]]\n"
     ]
    }
   ],
   "source": [
    "scores = []\n",
    "f1_scores = []\n",
    "for k in range(3,10):\n",
    "  prediction = []\n",
    "  for row in validation_df1:\n",
    "    dis = euclidean_distance(row) \n",
    "    prediction.append(find_majority_label(k,dis))\n",
    "  predicted_label = np.array(prediction)\n",
    "  accuracy = accuracy_score(validation_label, predicted_label)\n",
    "  print(\"k=\",k,\"Accuracy: \",accuracy*100)\n",
    "  print(\"k=\",k,\"Precision score: \",precision_score(validation_label, predicted_label,  average='macro'))\n",
    "  print(\"k=\",k,\"Recall score: \",recall_score(validation_label, predicted_label,  average='macro'))\n",
    "  f1 = f1_score(validation_label, predicted_label,  average='macro')\n",
    "  print(\"k=\",k,\"F1 score: \",f1)\n",
    "  print(confusion_matrix(validation_label, predicted_label))\n",
    "  scores.append(accuracy)\n",
    "  f1_scores.append(f1)"
   ]
  },
  {
   "cell_type": "markdown",
   "metadata": {
    "colab_type": "text",
    "id": "ZLEpaLXM7PM_"
   },
   "source": [
    "### **Plotting**\n",
    "Plotting Accuracy for different values of k, using euclidean distance as the distance metrics."
   ]
  },
  {
   "cell_type": "code",
   "execution_count": 8,
   "metadata": {
    "colab": {
     "base_uri": "https://localhost:8080/",
     "height": 312
    },
    "colab_type": "code",
    "executionInfo": {
     "elapsed": 999,
     "status": "ok",
     "timestamp": 1580568782665,
     "user": {
      "displayName": "SAGNIK GUPTA",
      "photoUrl": "",
      "userId": "16842988992457144742"
     },
     "user_tz": -330
    },
    "id": "edZKq6Xy6IqU",
    "outputId": "7a582261-9cf7-4131-a417-9a9adced6473"
   },
   "outputs": [
    {
     "data": {
      "text/plain": [
       "Text(0.5, 1.0, 'Accuracy for different k')"
      ]
     },
     "execution_count": 8,
     "metadata": {
      "tags": []
     },
     "output_type": "execute_result"
    },
    {
     "data": {
      "image/png": "[encoded data removed]",
      "text/plain": [
       "<Figure size 432x288 with 1 Axes>"
      ]
     },
     "metadata": {
      "tags": []
     },
     "output_type": "display_data"
    }
   ],
   "source": [
    "k=[3,4,5,6,7,8,9]\n",
    "plt.plot(k, scores)\n",
    "plt.xlabel('Value of K for KNN')\n",
    "plt.ylabel('Testing Accuracy')\n",
    "plt.title(\"Accuracy for different k\")"
   ]
  },
  {
   "cell_type": "markdown",
   "metadata": {
    "colab_type": "text",
    "id": "nW1nrExE7TUr"
   },
   "source": [
    "### **Plotting**\n",
    "Plotting F1 scores for different values of k, using euclidean distance as the distance metrics."
   ]
  },
  {
   "cell_type": "code",
   "execution_count": 9,
   "metadata": {
    "colab": {
     "base_uri": "https://localhost:8080/",
     "height": 312
    },
    "colab_type": "code",
    "executionInfo": {
     "elapsed": 955,
     "status": "ok",
     "timestamp": 1580568786553,
     "user": {
      "displayName": "SAGNIK GUPTA",
      "photoUrl": "",
      "userId": "16842988992457144742"
     },
     "user_tz": -330
    },
    "id": "T1h6-1Z77S7Y",
    "outputId": "b16f1784-6c12-4e88-b994-192a0fd4e7b0"
   },
   "outputs": [
    {
     "data": {
      "text/plain": [
       "Text(0.5, 1.0, 'F1 score for different k')"
      ]
     },
     "execution_count": 9,
     "metadata": {
      "tags": []
     },
     "output_type": "execute_result"
    },
    {
     "data": {
      "image/png": "[encoded data removed]",
      "text/plain": [
       "<Figure size 432x288 with 1 Axes>"
      ]
     },
     "metadata": {
      "tags": []
     },
     "output_type": "display_data"
    }
   ],
   "source": [
    "k=[3,4,5,6,7,8,9]\n",
    "plt.plot(k, f1_scores)\n",
    "plt.xlabel('Value of K for KNN')\n",
    "plt.ylabel('Testing F1 scores')\n",
    "plt.title(\"F1 score for different k\")"
   ]
  },
  {
   "cell_type": "markdown",
   "metadata": {
    "colab_type": "text",
    "id": "2JsrR6XPSEwG"
   },
   "source": [
    "## **Predictions**\n",
    "This method is performing the KNN classification using Manhattan distance as the distance metric. Here, we use different values of k ranging from 3 to 9. Analyzing the results, we see that for all K values, we get accuracy of 100%. For k=5:\n",
    "*   Accuracy: 100%\n",
    "*   Precision score: 1.0\n",
    "*   Recall score: 1.0\n",
    "*   F1 score: 1.0\n",
    "\n",
    "We also display the confusion matrix for each k."
   ]
  },
  {
   "cell_type": "code",
   "execution_count": 28,
   "metadata": {
    "colab": {
     "base_uri": "https://localhost:8080/",
     "height": 746
    },
    "colab_type": "code",
    "executionInfo": {
     "elapsed": 10250,
     "status": "ok",
     "timestamp": 1580569631583,
     "user": {
      "displayName": "SAGNIK GUPTA",
      "photoUrl": "",
      "userId": "16842988992457144742"
     },
     "user_tz": -330
    },
    "id": "oMzCOmrvSFD8",
    "outputId": "940f3e58-a896-4da5-bf33-2b428af3795a"
   },
   "outputs": [
    {
     "name": "stdout",
     "output_type": "stream",
     "text": [
      "k= 3 Accuracy:  100.0\n",
      "k= 3 Precision score:  1.0\n",
      "k= 3 Recall score:  1.0\n",
      "k= 3 F1 score:  1.0\n",
      "[[505   0]\n",
      " [  0 495]]\n",
      "k= 4 Accuracy:  100.0\n",
      "k= 4 Precision score:  1.0\n",
      "k= 4 Recall score:  1.0\n",
      "k= 4 F1 score:  1.0\n",
      "[[505   0]\n",
      " [  0 495]]\n",
      "k= 5 Accuracy:  100.0\n",
      "k= 5 Precision score:  1.0\n",
      "k= 5 Recall score:  1.0\n",
      "k= 5 F1 score:  1.0\n",
      "[[505   0]\n",
      " [  0 495]]\n",
      "k= 6 Accuracy:  100.0\n",
      "k= 6 Precision score:  1.0\n",
      "k= 6 Recall score:  1.0\n",
      "k= 6 F1 score:  1.0\n",
      "[[505   0]\n",
      " [  0 495]]\n",
      "k= 7 Accuracy:  100.0\n",
      "k= 7 Precision score:  1.0\n",
      "k= 7 Recall score:  1.0\n",
      "k= 7 F1 score:  1.0\n",
      "[[505   0]\n",
      " [  0 495]]\n",
      "k= 8 Accuracy:  100.0\n",
      "k= 8 Precision score:  1.0\n",
      "k= 8 Recall score:  1.0\n",
      "k= 8 F1 score:  1.0\n",
      "[[505   0]\n",
      " [  0 495]]\n",
      "k= 9 Accuracy:  100.0\n",
      "k= 9 Precision score:  1.0\n",
      "k= 9 Recall score:  1.0\n",
      "k= 9 F1 score:  1.0\n",
      "[[505   0]\n",
      " [  0 495]]\n"
     ]
    }
   ],
   "source": [
    "scores = []\n",
    "f1_scores = []\n",
    "for k in range(3,10):\n",
    "  prediction = []\n",
    "  for row in validation_df1:\n",
    "    dis = manhattan_distance(row) \n",
    "    prediction.append(find_majority_label(k,dis))\n",
    "  predicted_label = np.array(prediction)\n",
    "  accuracy = accuracy_score(validation_label, predicted_label)\n",
    "  print(\"k=\",k,\"Accuracy: \",accuracy*100)\n",
    "  print(\"k=\",k,\"Precision score: \",precision_score(validation_label, predicted_label,  average='macro'))\n",
    "  print(\"k=\",k,\"Recall score: \",recall_score(validation_label, predicted_label,  average='macro'))\n",
    "  f1 = f1_score(validation_label, predicted_label,  average='macro')\n",
    "  print(\"k=\",k,\"F1 score: \",f1)\n",
    "  print(confusion_matrix(validation_label, predicted_label))\n",
    "  scores.append(accuracy)\n",
    "  f1_scores.append(f1)"
   ]
  },
  {
   "cell_type": "markdown",
   "metadata": {
    "colab_type": "text",
    "id": "u8CbFzveS6qV"
   },
   "source": [
    "### **Plotting**\n",
    "Plotting Accuracy for different values of k, using manhattan distance as the distance metrics."
   ]
  },
  {
   "cell_type": "code",
   "execution_count": 29,
   "metadata": {
    "colab": {
     "base_uri": "https://localhost:8080/",
     "height": 312
    },
    "colab_type": "code",
    "executionInfo": {
     "elapsed": 975,
     "status": "ok",
     "timestamp": 1580569717812,
     "user": {
      "displayName": "SAGNIK GUPTA",
      "photoUrl": "",
      "userId": "16842988992457144742"
     },
     "user_tz": -330
    },
    "id": "bPNv5xH7S67x",
    "outputId": "4d35f5ba-763f-4d97-a61b-4091d0bb0271"
   },
   "outputs": [
    {
     "data": {
      "text/plain": [
       "Text(0.5, 1.0, 'Accuracy for different k')"
      ]
     },
     "execution_count": 29,
     "metadata": {
      "tags": []
     },
     "output_type": "execute_result"
    },
    {
     "data": {
      "image/png": "[encoded data removed]",
      "text/plain": [
       "<Figure size 432x288 with 1 Axes>"
      ]
     },
     "metadata": {
      "tags": []
     },
     "output_type": "display_data"
    }
   ],
   "source": [
    "k=[3,4,5,6,7,8,9]\n",
    "plt.plot(k, scores)\n",
    "plt.xlabel('Value of K for KNN')\n",
    "plt.ylabel('Testing Accuracy')\n",
    "plt.title(\"Accuracy for different k\")"
   ]
  },
  {
   "cell_type": "markdown",
   "metadata": {
    "colab_type": "text",
    "id": "wDv6Q08hTS7u"
   },
   "source": [
    "### **Plotting**\n",
    "Plotting F1 scores for different values of k, using manhattan distance as the distance metrics."
   ]
  },
  {
   "cell_type": "code",
   "execution_count": 30,
   "metadata": {
    "colab": {
     "base_uri": "https://localhost:8080/",
     "height": 312
    },
    "colab_type": "code",
    "executionInfo": {
     "elapsed": 1003,
     "status": "ok",
     "timestamp": 1580569754811,
     "user": {
      "displayName": "SAGNIK GUPTA",
      "photoUrl": "",
      "userId": "16842988992457144742"
     },
     "user_tz": -330
    },
    "id": "_5VNxex-TBAS",
    "outputId": "75522242-b539-4a62-9e0b-2aa573e4a9a8"
   },
   "outputs": [
    {
     "data": {
      "text/plain": [
       "Text(0.5, 1.0, 'F1 scores for different k')"
      ]
     },
     "execution_count": 30,
     "metadata": {
      "tags": []
     },
     "output_type": "execute_result"
    },
    {
     "data": {
      "image/png": "[encoded data removed]",
      "text/plain": [
       "<Figure size 432x288 with 1 Axes>"
      ]
     },
     "metadata": {
      "tags": []
     },
     "output_type": "display_data"
    }
   ],
   "source": [
    "k=[3,4,5,6,7,8,9]\n",
    "plt.plot(k, f1_scores)\n",
    "plt.xlabel('Value of K for KNN')\n",
    "plt.ylabel('Testing F1 scores')\n",
    "plt.title(\"F1 scores for different k\")"
   ]
  },
  {
   "cell_type": "code",
   "execution_count": 0,
   "metadata": {
    "colab": {},
    "colab_type": "code",
    "id": "W6woSoHuNaXw"
   },
   "outputs": [],
   "source": [
    "train_df=pd.read_csv('/content/drive/My Drive/Assignment1 Dataset//Datasets/q2/train.csv',header=None)\n",
    "test_df=pd.read_csv('/content/drive/My Drive/Assignment1 Dataset//Datasets/q2/test.csv',header=None)\n",
    "test_labels_df=pd.read_csv('/content/drive/My Drive/Assignment1 Dataset//Datasets/q2/test_labels.csv',header=None)\n",
    "for col in train_df.columns:\n",
    "  train_df[col]=train_df[col].replace('?',train_df[col].mode()[0])\n",
    "# df=train_df.drop(11,axis=1)\n",
    "data = train_df.to_numpy()\n",
    "for col in test_df.columns:\n",
    "  test_df[col]=test_df[col].replace('?',test_df[col].mode()[0])\n",
    "# test_df = test_df.drop(11,axis=1)\n",
    "validation_data = test_df.to_numpy()\n",
    "validation_label = test_labels_df.to_numpy()\n",
    "train_data = data[:, 1:]\n",
    "train_label = data[:, 0]"
   ]
  },
  {
   "cell_type": "markdown",
   "metadata": {
    "colab_type": "text",
    "id": "fWmIJUv92pvK"
   },
   "source": [
    "## **Predictions using Random guessing**\n",
    "\n",
    "We use random guessing to predict the labels and get around 50% accuracy and F1 score."
   ]
  },
  {
   "cell_type": "code",
   "execution_count": 10,
   "metadata": {
    "colab": {
     "base_uri": "https://localhost:8080/",
     "height": 746
    },
    "colab_type": "code",
    "executionInfo": {
     "elapsed": 1024,
     "status": "ok",
     "timestamp": 1580579039794,
     "user": {
      "displayName": "SAGNIK GUPTA",
      "photoUrl": "",
      "userId": "16842988992457144742"
     },
     "user_tz": -330
    },
    "id": "rlY_lirC1wzu",
    "outputId": "d4c5a2ff-d3c0-49dd-8403-bde6fc70b487"
   },
   "outputs": [
    {
     "name": "stdout",
     "output_type": "stream",
     "text": [
      "k= 3 Accuracy:  51.2\n",
      "k= 3 Precision score:  0.5092213114754098\n",
      "k= 3 Recall score:  0.5097402597402597\n",
      "k= 3 F1 score:  0.5038714295009434\n",
      "[[ 96  96]\n",
      " [148 160]]\n",
      "k= 4 Accuracy:  50.6\n",
      "k= 4 Precision score:  0.49716764029031685\n",
      "k= 4 Recall score:  0.49702380952380953\n",
      "k= 4 F1 score:  0.4939996968095349\n",
      "[[ 88 104]\n",
      " [143 165]]\n",
      "k= 5 Accuracy:  46.6\n",
      "k= 5 Precision score:  0.46460290281800576\n",
      "k= 5 Recall score:  0.462594696969697\n",
      "k= 5 F1 score:  0.45793185777106454\n",
      "[[ 86 106]\n",
      " [161 147]]\n",
      "k= 6 Accuracy:  50.0\n",
      "k= 6 Precision score:  0.5009280593958013\n",
      "k= 6 Recall score:  0.5009807900432901\n",
      "k= 6 F1 score:  0.49364832458357644\n",
      "[[ 97  95]\n",
      " [155 153]]\n",
      "k= 7 Accuracy:  48.4\n",
      "k= 7 Precision score:  0.49138872823083346\n",
      "k= 7 Recall score:  0.4909361471861472\n",
      "k= 7 F1 score:  0.480333231279911\n",
      "[[100  92]\n",
      " [166 142]]\n",
      "k= 8 Accuracy:  47.0\n",
      "k= 8 Precision score:  0.4723089235694278\n",
      "k= 8 Recall score:  0.4707454004329004\n",
      "k= 8 F1 score:  0.4639772483626022\n",
      "[[ 91 101]\n",
      " [164 144]]\n",
      "k= 9 Accuracy:  52.0\n",
      "k= 9 Precision score:  0.5153846153846153\n",
      "k= 9 Recall score:  0.5162337662337662\n",
      "k= 9 F1 score:  0.5109546165884195\n",
      "[[ 96  96]\n",
      " [144 164]]\n"
     ]
    }
   ],
   "source": [
    "scores_r = []\n",
    "f1_scores_r = []\n",
    "for k in range(3,10):\n",
    "  prediction = []\n",
    "  for row in validation_data:\n",
    "    prediction.append(random_guessing())\n",
    "  predicted_label = np.array(prediction)\n",
    "  accuracy = accuracy_score(validation_label, predicted_label)\n",
    "  print(\"k=\",k,\"Accuracy: \",accuracy*100)\n",
    "  print(\"k=\",k,\"Precision score: \",precision_score(validation_label, predicted_label,  average='macro'))\n",
    "  print(\"k=\",k,\"Recall score: \",recall_score(validation_label, predicted_label,  average='macro'))\n",
    "  f1 = f1_score(validation_label, predicted_label,  average='macro')\n",
    "  print(\"k=\",k,\"F1 score: \",f1)\n",
    "  print(confusion_matrix(validation_label, predicted_label))\n",
    "  scores_r.append(accuracy)\n",
    "  f1_scores_r.append(f1)"
   ]
  },
  {
   "cell_type": "markdown",
   "metadata": {
    "colab_type": "text",
    "id": "oh5RjO4GN2M4"
   },
   "source": [
    "## **Predictions on test data**\n",
    "Using the value of k=5 , which gave us the best result in our training data,we test our model on the test data. We find out the accuracy score, precision score, recall score, F1 score and display the confusion matrix.\n",
    "*   Accuracy: 100%\n",
    "*   Precision score: 1.0\n",
    "*   Recall score: 1.0\n",
    "*   F1 score: 1.0"
   ]
  },
  {
   "cell_type": "code",
   "execution_count": 18,
   "metadata": {
    "colab": {
     "base_uri": "https://localhost:8080/",
     "height": 121
    },
    "colab_type": "code",
    "executionInfo": {
     "elapsed": 2319,
     "status": "ok",
     "timestamp": 1580569109009,
     "user": {
      "displayName": "SAGNIK GUPTA",
      "photoUrl": "",
      "userId": "16842988992457144742"
     },
     "user_tz": -330
    },
    "id": "MBmMXwEJNxGA",
    "outputId": "fdd4a2e0-0607-4857-ad15-e4c96c74402e"
   },
   "outputs": [
    {
     "name": "stdout",
     "output_type": "stream",
     "text": [
      "k= 5 Accuracy:  100.0\n",
      "k= 5 Precision score:  1.0\n",
      "k= 5 Recall score:  1.0\n",
      "k= 5 F1 score:  1.0\n",
      "[[505   0]\n",
      " [  0 495]]\n"
     ]
    }
   ],
   "source": [
    "k = 5\n",
    "prediction = []\n",
    "for row in validation_df1:\n",
    "  dis = euclidean_distance(row) \n",
    "  prediction.append(find_majority_label(k,dis))\n",
    "predicted_label = np.array(prediction)\n",
    "# print(validation_label.shape)\n",
    "# print(predicted_label.shape)\n",
    "print(\"k=\",k,\"Accuracy: \",accuracy_score(validation_label, predicted_label)*100)\n",
    "print(\"k=\",k,\"Precision score: \",precision_score(validation_label, predicted_label,  average='macro'))\n",
    "print(\"k=\",k,\"Recall score: \",recall_score(validation_label, predicted_label,  average='macro'))\n",
    "print(\"k=\",k,\"F1 score: \",f1_score(validation_label, predicted_label,  average='macro'))\n",
    "print(confusion_matrix(validation_label, predicted_label))"
   ]
  },
  {
   "cell_type": "markdown",
   "metadata": {
    "colab_type": "text",
    "id": "EODvfqsk825Y"
   },
   "source": [
    "## **Using scikit-learn’s kNN classifier**"
   ]
  },
  {
   "cell_type": "code",
   "execution_count": 0,
   "metadata": {
    "colab": {},
    "colab_type": "code",
    "id": "46_9Jjd3AEks"
   },
   "outputs": [],
   "source": [
    "from sklearn.neighbors import KNeighborsClassifier\n",
    "import numpy as np\n",
    "from numpy import genfromtxt\n",
    "import pandas as pd\n",
    "from sklearn.metrics import accuracy_score"
   ]
  },
  {
   "cell_type": "code",
   "execution_count": 0,
   "metadata": {
    "colab": {
     "base_uri": "https://localhost:8080/",
     "height": 34
    },
    "colab_type": "code",
    "executionInfo": {
     "elapsed": 8544,
     "status": "ok",
     "timestamp": 1580419792741,
     "user": {
      "displayName": "SAGNIK GUPTA",
      "photoUrl": "",
      "userId": "16842988992457144742"
     },
     "user_tz": -330
    },
    "id": "_teN9gLmBnT3",
    "outputId": "9c4b9fa1-ea6b-43dc-e628-bfd5328247cc"
   },
   "outputs": [
    {
     "data": {
      "text/plain": [
       "1.0"
      ]
     },
     "execution_count": 26,
     "metadata": {
      "tags": []
     },
     "output_type": "execute_result"
    }
   ],
   "source": [
    "neigh = KNeighborsClassifier(n_neighbors=5)\n",
    "neigh.fit(train_df1, train_label)\n",
    "knn_pred = neigh.predict(validation_df1)\n",
    "accuracy_score(validation_label,knn_pred)"
   ]
  },
  {
   "cell_type": "markdown",
   "metadata": {
    "colab_type": "text",
    "id": "RjuUjorJOS7b"
   },
   "source": [
    "## **Comparison**\n",
    "Using the KNN Classifier library of sklearn, we get an accuracy of **100%** for the k value of **5**. We had seen that we got an accuracy of 100% using our own model\n",
    "**Thus can conclude that both the models perform equally good.**"
   ]
  }
 ],
 "metadata": {
  "accelerator": "GPU",
  "colab": {
   "authorship_tag": "ABX9TyPWatHgZR+VPP7LdH7mGAO6",
   "collapsed_sections": [],
   "name": "q2.ipynb",
   "provenance": [
    {
     "file_id": "1XcVu-qr0gMtA4MfOgu3lffhxVUBmmSK9",
     "timestamp": 1580568564261
    }
   ]
  },
  "kernelspec": {
   "display_name": "Python 3",
   "language": "python",
   "name": "python3"
  },
  "language_info": {
   "codemirror_mode": {
    "name": "ipython",
    "version": 3
   },
   "file_extension": ".py",
   "mimetype": "text/x-python",
   "name": "python",
   "nbconvert_exporter": "python",
   "pygments_lexer": "ipython3",
   "version": "3.6.8"
  }
 },
 "nbformat": 4,
 "nbformat_minor": 1
}
