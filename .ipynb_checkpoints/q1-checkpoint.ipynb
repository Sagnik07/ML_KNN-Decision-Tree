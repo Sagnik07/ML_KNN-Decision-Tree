{
 "cells": [
  {
   "cell_type": "code",
   "execution_count": 1,
   "metadata": {
    "colab": {
     "base_uri": "https://localhost:8080/",
     "height": 124
    },
    "colab_type": "code",
    "executionInfo": {
     "elapsed": 21606,
     "status": "ok",
     "timestamp": 1580577555265,
     "user": {
      "displayName": "SAGNIK GUPTA",
      "photoUrl": "",
      "userId": "16842988992457144742"
     },
     "user_tz": -330
    },
    "id": "KI2696yX9JBc",
    "outputId": "3193df4d-020b-4b9c-f743-98ccca4a143b"
   },
   "outputs": [
    {
     "name": "stdout",
     "output_type": "stream",
     "text": [
      "Go to this URL in a browser: https://accounts.google.com/o/oauth2/auth?client_id=947318989803-6bn6qk8qdgf4n4g3pfee6491hc0brc4i.apps.googleusercontent.com&redirect_uri=urn%3aietf%3awg%3aoauth%3a2.0%3aoob&response_type=code&scope=email%20https%3a%2f%2fwww.googleapis.com%2fauth%2fdocs.test%20https%3a%2f%2fwww.googleapis.com%2fauth%2fdrive%20https%3a%2f%2fwww.googleapis.com%2fauth%2fdrive.photos.readonly%20https%3a%2f%2fwww.googleapis.com%2fauth%2fpeopleapi.readonly\n",
      "\n",
      "Enter your authorization code:\n",
      "··········\n",
      "Mounted at /content/drive\n"
     ]
    }
   ],
   "source": [
    "from google.colab import drive\n",
    "drive.mount('/content/drive')"
   ]
  },
  {
   "cell_type": "code",
   "execution_count": 0,
   "metadata": {
    "colab": {},
    "colab_type": "code",
    "id": "Yjb2YIcGFFEQ"
   },
   "outputs": [],
   "source": [
    "import numpy as np\n",
    "from numpy import genfromtxt\n",
    "import math\n",
    "from collections import Counter\n",
    "from sklearn.metrics import accuracy_score\n",
    "from sklearn.metrics import precision_score\n",
    "from sklearn.metrics import recall_score\n",
    "from sklearn.metrics import f1_score\n",
    "from sklearn.metrics import confusion_matrix\n",
    "import matplotlib.pyplot as plt\n",
    "import random"
   ]
  },
  {
   "cell_type": "markdown",
   "metadata": {
    "colab_type": "text",
    "id": "ePNsZ10E3HGh"
   },
   "source": [
    "### **Training Data**\n",
    "The data is read from the file. Then it is divided into training and validation sets."
   ]
  },
  {
   "cell_type": "code",
   "execution_count": 0,
   "metadata": {
    "colab": {},
    "colab_type": "code",
    "id": "3qBWmkXkLGfj"
   },
   "outputs": [],
   "source": [
    "data = genfromtxt('/content/drive/My Drive/Assignment1 Dataset//Datasets/q1/train.csv', delimiter=',')\n",
    "labels = data [:,0]\n",
    "np.random.shuffle(labels)\n",
    "labels = labels.tolist()\n",
    "np.random.shuffle(data)\n",
    "validation_data = data[:4000, 1:]\n",
    "validation_label = data[:4000, 0]\n",
    "train_data = data[4000:, 1:]\n",
    "train_label = data[4000:, 0]"
   ]
  },
  {
   "cell_type": "markdown",
   "metadata": {
    "colab_type": "text",
    "id": "RIoiRqDsNz4P"
   },
   "source": [
    "### **Euclidean Distance metrics**\n",
    "The euclidean distance between the actual and predicted data is calculated."
   ]
  },
  {
   "cell_type": "code",
   "execution_count": 0,
   "metadata": {
    "colab": {},
    "colab_type": "code",
    "id": "RgFjlwFMLSOo"
   },
   "outputs": [],
   "source": [
    "def euclidean_distance(row):\n",
    "  dist = np.sqrt(np.sum((train_data-row)**2,axis=1))\n",
    "  return dist"
   ]
  },
  {
   "cell_type": "markdown",
   "metadata": {
    "colab_type": "text",
    "id": "raN_fRrvOfLg"
   },
   "source": [
    "### **Manhattan Distance metrics**\n",
    "The manhattan distance between the actual and predicted data is calculated."
   ]
  },
  {
   "cell_type": "code",
   "execution_count": 0,
   "metadata": {
    "colab": {},
    "colab_type": "code",
    "id": "_srv4VrKnyOm"
   },
   "outputs": [],
   "source": [
    "def manhattan_distance(row):\n",
    "  dist = np.sum(abs(train_data-row),axis=1)\n",
    "  return dist"
   ]
  },
  {
   "cell_type": "markdown",
   "metadata": {
    "colab_type": "text",
    "id": "qGC_VQmAPLzt"
   },
   "source": [
    "## **Majority Voting**\n",
    "Voting is done on the k nearest neighbours and the class getting the majority number of votes is returned."
   ]
  },
  {
   "cell_type": "code",
   "execution_count": 0,
   "metadata": {
    "colab": {},
    "colab_type": "code",
    "id": "u1KPA7B6OYAB"
   },
   "outputs": [],
   "source": [
    "def find_majority_label(k, distance):\n",
    "  index = np.argsort(distance)\n",
    "  index = index[:k]\n",
    "  label = train_label[index]\n",
    "  li = []\n",
    "  for i in range(0,k):\n",
    "    li.append(int(label[i]))\n",
    "\n",
    "  maxm = 0\n",
    "  majority_element = li[0] \n",
    "  for i in li: \n",
    "      freq = li.count(i) \n",
    "      if freq > maxm: \n",
    "          maxm = freq \n",
    "          majority_element = i\n",
    "\n",
    "  return majority_element "
   ]
  },
  {
   "cell_type": "markdown",
   "metadata": {
    "colab_type": "text",
    "id": "1KhB9rqfwLXC"
   },
   "source": [
    "## **Random Guessing**\n",
    "A class from the total possible classes is randomly guessed and returned."
   ]
  },
  {
   "cell_type": "code",
   "execution_count": 0,
   "metadata": {
    "colab": {},
    "colab_type": "code",
    "id": "j9G1jBL1wLp5"
   },
   "outputs": [],
   "source": [
    "def random_guessing():\n",
    "  return random.choice(labels)"
   ]
  },
  {
   "cell_type": "markdown",
   "metadata": {
    "colab_type": "text",
    "id": "pOkBKnDHFZXk"
   },
   "source": [
    "## **Predictions**\n",
    "This method is performing the KNN classification using Euclidean distance as the distance metric. Here, we use different values of k ranging from 3 to 9. Analyzing the results, we see that **k=3** gives us the best accuracy. For k=3:\n",
    "*   Accuracy: 96.125%\n",
    "*   Precision score: 0.962\n",
    "*   Recall score:0.960\n",
    "*   F1 score: 0.961\n",
    "\n",
    "We also display the confusion matrix for each k."
   ]
  },
  {
   "cell_type": "code",
   "execution_count": 0,
   "metadata": {
    "colab": {
     "base_uri": "https://localhost:8080/",
     "height": 1000
    },
    "colab_type": "code",
    "executionInfo": {
     "elapsed": 1153758,
     "status": "ok",
     "timestamp": 1580505906844,
     "user": {
      "displayName": "SAGNIK GUPTA",
      "photoUrl": "",
      "userId": "16842988992457144742"
     },
     "user_tz": -330
    },
    "id": "obI3mw5BgMKX",
    "outputId": "f22d7816-5cdf-4dd8-889a-5fb3f85fb680"
   },
   "outputs": [
    {
     "name": "stdout",
     "output_type": "stream",
     "text": [
      "k= 3 Accuracy:  96.125\n",
      "k= 3 Precision score:  0.9620914792879063\n",
      "k= 3 Recall score:  0.9608668272316848\n",
      "k= 3 F1 score:  0.9612344709251529\n",
      "[[409   0   0   0   0   3   0   0   0   2]\n",
      " [  0 412   0   0   0   0   1   2   1   0]\n",
      " [  4   5 355   3   0   0   1   2   1   1]\n",
      " [  0   1   1 395   0   6   0   1   6   2]\n",
      " [  0   2   0   0 355   0   2   1   0  10]\n",
      " [  2   1   0   6   0 358   4   1   0   4]\n",
      " [  1   0   0   0   0   1 398   0   0   0]\n",
      " [  0   4   0   0   4   1   0 424   1   7]\n",
      " [  3   9   1   8   1   2   3   2 357   7]\n",
      " [  1   1   0   3   5   3   0  11   0 382]]\n",
      "k= 4 Accuracy:  96.05\n",
      "k= 4 Precision score:  0.9613410476914156\n",
      "k= 4 Recall score:  0.9601374853771958\n",
      "k= 4 F1 score:  0.9604841833045897\n",
      "[[409   0   0   1   0   3   1   0   0   0]\n",
      " [  0 412   0   0   0   0   1   2   1   0]\n",
      " [  3   5 356   2   0   0   1   3   2   0]\n",
      " [  0   1   2 391   0   8   0   1   7   2]\n",
      " [  0   2   0   0 356   0   2   1   0   9]\n",
      " [  2   3   0   7   0 355   4   0   0   5]\n",
      " [  0   0   0   0   0   2 397   1   0   0]\n",
      " [  0   5   0   0   4   1   0 423   1   7]\n",
      " [  3   9   0   7   1   2   4   3 356   8]\n",
      " [  1   1   0   2   3   3   0   9   0 387]]\n",
      "k= 5 Accuracy:  95.8\n",
      "k= 5 Precision score:  0.9589816305909646\n",
      "k= 5 Recall score:  0.9577193461188678\n",
      "k= 5 F1 score:  0.9580626326420234\n",
      "[[408   0   0   1   0   3   2   0   0   0]\n",
      " [  0 413   0   0   0   0   1   1   1   0]\n",
      " [  4   5 356   3   0   0   1   3   0   0]\n",
      " [  0   1   3 390   0   7   0   1   8   2]\n",
      " [  0   3   0   0 355   0   2   1   0   9]\n",
      " [  2   4   0   5   0 356   4   0   0   5]\n",
      " [  1   0   0   0   0   2 396   1   0   0]\n",
      " [  0   7   0   0   5   1   0 420   1   7]\n",
      " [  3   9   1  10   1   2   2   2 355   8]\n",
      " [  1   2   0   4   2   3   0  11   0 383]]\n",
      "k= 6 Accuracy:  96.0\n",
      "k= 6 Precision score:  0.9610596791372655\n",
      "k= 6 Recall score:  0.9596497239042613\n",
      "k= 6 F1 score:  0.9600646481013886\n",
      "[[409   0   0   1   0   3   1   0   0   0]\n",
      " [  0 412   0   0   0   0   1   2   1   0]\n",
      " [  4   5 355   3   0   0   2   3   0   0]\n",
      " [  0   1   2 392   0   7   0   1   7   2]\n",
      " [  0   4   0   0 353   0   2   1   0  10]\n",
      " [  1   4   0   5   0 357   4   0   0   5]\n",
      " [  0   0   0   0   0   2 397   1   0   0]\n",
      " [  0   7   0   0   5   1   0 421   1   6]\n",
      " [  4   9   0   7   1   2   1   1 359   9]\n",
      " [  1   2   0   4   2   3   0   9   0 385]]\n",
      "k= 7 Accuracy:  95.775\n",
      "k= 7 Precision score:  0.9588181787741135\n",
      "k= 7 Recall score:  0.9575181078481796\n",
      "k= 7 F1 score:  0.9578360877810355\n",
      "[[408   0   0   1   0   3   2   0   0   0]\n",
      " [  0 412   0   0   0   0   1   2   1   0]\n",
      " [  4   4 356   4   0   0   1   3   0   0]\n",
      " [  0   2   2 391   0   7   0   1   6   3]\n",
      " [  0   4   0   0 353   0   2   1   0  10]\n",
      " [  1   4   0   4   0 359   4   0   0   4]\n",
      " [  1   0   0   0   0   4 394   1   0   0]\n",
      " [  0   7   1   0   5   1   0 418   1   8]\n",
      " [  4   9   1   7   1   4   1   1 355  10]\n",
      " [  1   2   0   4   2   3   0   9   0 385]]\n",
      "k= 8 Accuracy:  95.7\n",
      "k= 8 Precision score:  0.9581856132078282\n",
      "k= 8 Recall score:  0.9566396066413269\n",
      "k= 8 F1 score:  0.9570251853635348\n",
      "[[409   0   0   1   0   3   1   0   0   0]\n",
      " [  0 412   0   0   0   0   1   2   1   0]\n",
      " [  3   5 356   3   0   0   2   3   0   0]\n",
      " [  0   2   2 391   0   7   0   1   6   3]\n",
      " [  0   4   0   0 352   0   2   2   0  10]\n",
      " [  1   4   0   7   0 354   5   0   0   5]\n",
      " [  1   0   0   0   0   3 395   1   0   0]\n",
      " [  0   7   1   0   5   1   0 418   1   8]\n",
      " [  5   9   1   8   1   4   1   1 353  10]\n",
      " [  1   2   0   4   1   3   0   7   0 388]]\n",
      "k= 9 Accuracy:  95.5\n",
      "k= 9 Precision score:  0.9561749231308625\n",
      "k= 9 Recall score:  0.9546478624965339\n",
      "k= 9 F1 score:  0.9550010345572695\n",
      "[[408   0   0   1   0   3   2   0   0   0]\n",
      " [  0 414   0   0   0   0   0   1   1   0]\n",
      " [  3   6 354   5   0   0   1   3   0   0]\n",
      " [  0   2   2 390   0   8   0   1   6   3]\n",
      " [  0   4   0   0 353   0   2   3   0   8]\n",
      " [  2   4   0   5   0 354   5   0   1   5]\n",
      " [  0   0   0   0   0   4 395   1   0   0]\n",
      " [  0   8   1   0   5   1   0 417   1   8]\n",
      " [  4  10   1   8   1   4   2   1 351  11]\n",
      " [  1   2   0   4   3   3   0   9   0 384]]\n"
     ]
    }
   ],
   "source": [
    "scores_e = []\n",
    "f1_scores_e = []\n",
    "for k in range(3,10):\n",
    "  prediction = []\n",
    "  for row in validation_data:\n",
    "    dis = euclidean_distance(row) \n",
    "    prediction.append(find_majority_label(k,dis))\n",
    "  predicted_label = np.array(prediction)\n",
    "  accuracy = accuracy_score(validation_label, predicted_label)\n",
    "  print(\"k=\",k,\"Accuracy: \",accuracy*100)\n",
    "  print(\"k=\",k,\"Precision score: \",precision_score(validation_label, predicted_label,  average='macro'))\n",
    "  print(\"k=\",k,\"Recall score: \",recall_score(validation_label, predicted_label,  average='macro'))\n",
    "  f1 = f1_score(validation_label, predicted_label,  average='macro')\n",
    "  print(\"k=\",k,\"F1 score: \",f1)\n",
    "  print(confusion_matrix(validation_label, predicted_label))\n",
    "  scores_e.append(accuracy)\n",
    "  f1_scores_e.append(f1)"
   ]
  },
  {
   "cell_type": "markdown",
   "metadata": {
    "colab_type": "text",
    "id": "UcOA-GD2jnLY"
   },
   "source": [
    "### **Plotting**\n",
    "Plotting Accuracy for different values of k, using euclidean distance as the distance metrics."
   ]
  },
  {
   "cell_type": "code",
   "execution_count": 0,
   "metadata": {
    "colab": {
     "base_uri": "https://localhost:8080/",
     "height": 312
    },
    "colab_type": "code",
    "executionInfo": {
     "elapsed": 1107,
     "status": "ok",
     "timestamp": 1580507693731,
     "user": {
      "displayName": "SAGNIK GUPTA",
      "photoUrl": "",
      "userId": "16842988992457144742"
     },
     "user_tz": -330
    },
    "id": "GXW5i1Cve8-c",
    "outputId": "60063265-7e9e-4a5b-e9f2-467354a40b77"
   },
   "outputs": [
    {
     "data": {
      "text/plain": [
       "Text(0.5, 1.0, 'Accuracy at different k for Euclidean distance metrics')"
      ]
     },
     "execution_count": 24,
     "metadata": {
      "tags": []
     },
     "output_type": "execute_result"
    },
    {
     "data": {
      "image/png": "[encoded data removed]",
      "text/plain": [
       "<Figure size 432x288 with 1 Axes>"
      ]
     },
     "metadata": {
      "tags": []
     },
     "output_type": "display_data"
    }
   ],
   "source": [
    "k=[3,4,5,6,7,8,9]\n",
    "plt.plot(k, scores_e)\n",
    "plt.xlabel('Value of K for KNN')\n",
    "plt.ylabel('Testing Accuracy')\n",
    "plt.title(\"Accuracy at different k for Euclidean distance metrics\")"
   ]
  },
  {
   "cell_type": "markdown",
   "metadata": {
    "colab_type": "text",
    "id": "zD_oY9_hj3bS"
   },
   "source": [
    "### **Plotting**\n",
    "Plotting F1 scores for different values of k, using euclidean distance as the distance metrics."
   ]
  },
  {
   "cell_type": "code",
   "execution_count": 0,
   "metadata": {
    "colab": {
     "base_uri": "https://localhost:8080/",
     "height": 312
    },
    "colab_type": "code",
    "executionInfo": {
     "elapsed": 1079,
     "status": "ok",
     "timestamp": 1580507718909,
     "user": {
      "displayName": "SAGNIK GUPTA",
      "photoUrl": "",
      "userId": "16842988992457144742"
     },
     "user_tz": -330
    },
    "id": "ooks3bNMfBxY",
    "outputId": "2f28d958-75a6-40fc-e16b-444650c92452"
   },
   "outputs": [
    {
     "data": {
      "text/plain": [
       "Text(0.5, 1.0, 'F1 scores at different k for Euclidean distance metrics')"
      ]
     },
     "execution_count": 25,
     "metadata": {
      "tags": []
     },
     "output_type": "execute_result"
    },
    {
     "data": {
      "image/png": "[encoded data removed]",
      "text/plain": [
       "<Figure size 432x288 with 1 Axes>"
      ]
     },
     "metadata": {
      "tags": []
     },
     "output_type": "display_data"
    }
   ],
   "source": [
    "k=[3,4,5,6,7,8,9]\n",
    "plt.plot(k, f1_scores_e)\n",
    "plt.xlabel('Value of K for KNN')\n",
    "plt.ylabel('Testing F1 score')\n",
    "plt.title(\"F1 scores at different k for Euclidean distance metrics\")"
   ]
  },
  {
   "cell_type": "markdown",
   "metadata": {
    "colab_type": "text",
    "id": "DTxafgRSLlND"
   },
   "source": [
    "## **Predictions**\n",
    "This method is performing the KNN classification using Manhattan distance as the distance metric. Here, we use different values of k ranging from 3 to 9. Analyzing the results, we see that **k=4** gives us the best accuracy. For k=4:\n",
    "*   Accuracy: 95.525%\n",
    "*   Precision score: 0.956\n",
    "*   Recall score: 0.954\n",
    "*   F1 score: 0.955\n",
    "\n",
    "We also display the confusion matrix for each k."
   ]
  },
  {
   "cell_type": "code",
   "execution_count": 0,
   "metadata": {
    "colab": {
     "base_uri": "https://localhost:8080/",
     "height": 1000
    },
    "colab_type": "code",
    "executionInfo": {
     "elapsed": 1143531,
     "status": "ok",
     "timestamp": 1580507509836,
     "user": {
      "displayName": "SAGNIK GUPTA",
      "photoUrl": "",
      "userId": "16842988992457144742"
     },
     "user_tz": -330
    },
    "id": "G4qgzGwjoQXM",
    "outputId": "39adb285-ce98-4e25-a3eb-01a8e23b86d4"
   },
   "outputs": [
    {
     "name": "stdout",
     "output_type": "stream",
     "text": [
      "k= 3 Accuracy:  95.375\n",
      "k= 3 Precision score:  0.9553049975660622\n",
      "k= 3 Recall score:  0.9531885849258745\n",
      "k= 3 F1 score:  0.9537086024627313\n",
      "[[410   0   0   0   0   3   0   0   0   1]\n",
      " [  0 413   0   0   0   0   1   1   1   0]\n",
      " [  4   7 354   2   0   0   1   4   0   0]\n",
      " [  0   1   2 393   0   6   0   1   5   4]\n",
      " [  0   4   0   0 353   0   2   1   0  10]\n",
      " [  2   6   0   8   0 350   4   0   0   6]\n",
      " [  2   0   0   0   0   1 396   1   0   0]\n",
      " [  0   8   0   1   4   0   0 422   1   5]\n",
      " [  3  12   2  11   1   3   3   3 346   9]\n",
      " [  1   3   0   3   6   3   0  12   0 378]]\n",
      "k= 4 Accuracy:  95.525\n",
      "k= 4 Precision score:  0.9565286243419509\n",
      "k= 4 Recall score:  0.9548402681678514\n",
      "k= 4 F1 score:  0.9552927080090337\n",
      "[[407   0   1   1   0   3   2   0   0   0]\n",
      " [  0 412   0   0   0   0   1   2   1   0]\n",
      " [  3   5 357   2   0   0   1   4   0   0]\n",
      " [  0   1   1 390   0   7   0   1   9   3]\n",
      " [  0   3   0   0 353   1   2   2   0   9]\n",
      " [  2   6   0   7   0 354   4   0   0   3]\n",
      " [  1   0   0   0   0   2 396   1   0   0]\n",
      " [  0   7   0   0   4   0   0 423   1   6]\n",
      " [  4  11   0  10   0   3   3   4 348  10]\n",
      " [  1   3   0   1   5   3   0  12   0 381]]\n",
      "k= 5 Accuracy:  95.22500000000001\n",
      "k= 5 Precision score:  0.9539422191089427\n",
      "k= 5 Recall score:  0.9517284704047274\n",
      "k= 5 F1 score:  0.9522224692135579\n",
      "[[409   0   0   1   0   3   0   0   0   1]\n",
      " [  0 414   0   0   0   0   0   1   1   0]\n",
      " [  3   7 352   3   0   0   3   4   0   0]\n",
      " [  0   1   1 390   0   8   0   1   7   4]\n",
      " [  0   5   0   0 351   1   2   1   0  10]\n",
      " [  2   5   0   6   0 355   4   0   0   4]\n",
      " [  2   0   0   0   0   2 395   1   0   0]\n",
      " [  0   9   0   1   4   0   0 420   1   6]\n",
      " [  3  14   2  11   2   3   3   3 342  10]\n",
      " [  1   3   0   4   3   3   0  11   0 381]]\n",
      "k= 6 Accuracy:  95.35\n",
      "k= 6 Precision score:  0.9551864573574559\n",
      "k= 6 Recall score:  0.9529551471158472\n",
      "k= 6 F1 score:  0.9535112765728873\n",
      "[[408   0   0   1   0   3   2   0   0   0]\n",
      " [  0 414   0   0   0   0   0   1   1   0]\n",
      " [  4   8 351   3   0   0   3   3   0   0]\n",
      " [  0   1   1 390   0   7   0   1   9   3]\n",
      " [  0   5   0   0 352   0   2   2   0   9]\n",
      " [  2   5   0   6   0 354   4   0   0   5]\n",
      " [  1   0   0   0   0   2 396   1   0   0]\n",
      " [  0   9   1   1   3   0   0 421   1   5]\n",
      " [  4  13   1  10   2   4   1   3 345  10]\n",
      " [  1   3   0   4   1   3   0  11   0 383]]\n",
      "k= 7 Accuracy:  94.89999999999999\n",
      "k= 7 Precision score:  0.9507858338256808\n",
      "k= 7 Recall score:  0.948399747741416\n",
      "k= 7 F1 score:  0.9489339060923451\n",
      "[[408   0   0   1   0   3   2   0   0   0]\n",
      " [  0 414   0   0   0   0   0   1   1   0]\n",
      " [  3  10 349   4   0   0   3   3   0   0]\n",
      " [  0   2   1 387   0   9   0   1   8   4]\n",
      " [  0   6   0   0 349   0   2   2   0  11]\n",
      " [  2   5   0   5   0 352   7   0   0   5]\n",
      " [  1   0   2   0   0   3 394   0   0   0]\n",
      " [  0  10   0   0   4   1   0 419   1   6]\n",
      " [  4  14   2   9   2   5   1   2 344  10]\n",
      " [  1   4   0   4   3   3   0  11   0 380]]\n",
      "k= 8 Accuracy:  94.89999999999999\n",
      "k= 8 Precision score:  0.9511001264715221\n",
      "k= 8 Recall score:  0.9483449248385669\n",
      "k= 8 F1 score:  0.948940344014105\n",
      "[[408   0   0   1   0   3   2   0   0   0]\n",
      " [  0 413   0   0   0   0   1   1   1   0]\n",
      " [  4   8 350   3   1   0   3   3   0   0]\n",
      " [  0   2   1 392   0   8   0   1   6   2]\n",
      " [  0   6   0   0 347   0   2   3   0  12]\n",
      " [  2   5   0   5   0 353   6   0   0   5]\n",
      " [  1   0   0   0   0   3 395   1   0   0]\n",
      " [  0  10   1   1   4   0   0 419   1   5]\n",
      " [  4  16   2  11   2   5   2   2 339  10]\n",
      " [  1   5   0   4   1   3   0  12   0 380]]\n",
      "k= 9 Accuracy:  94.6\n",
      "k= 9 Precision score:  0.9481805365855097\n",
      "k= 9 Recall score:  0.9453298346119124\n",
      "k= 9 F1 score:  0.9459207042540616\n",
      "[[408   0   0   1   0   3   2   0   0   0]\n",
      " [  0 414   0   0   0   0   0   1   1   0]\n",
      " [  4  11 348   4   0   0   2   3   0   0]\n",
      " [  0   2   2 389   0   9   0   1   6   3]\n",
      " [  0   8   0   0 348   0   2   1   0  11]\n",
      " [  2   6   0   6   0 349   7   0   1   5]\n",
      " [  0   0   1   0   0   4 394   1   0   0]\n",
      " [  0   9   1   0   4   1   0 417   1   8]\n",
      " [  3  18   2   9   2   5   3   1 339  11]\n",
      " [  1   4   0   5   3   3   0  12   0 378]]\n"
     ]
    }
   ],
   "source": [
    "scores_m = []\n",
    "f1_scores_m = []\n",
    "for k in range(3,10):\n",
    "  prediction = []\n",
    "  for row in validation_data:\n",
    "    dis = manhattan_distance(row) \n",
    "    prediction.append(find_majority_label(k,dis))\n",
    "  predicted_label = np.array(prediction)\n",
    "  accuracy = accuracy_score(validation_label, predicted_label)\n",
    "  print(\"k=\",k,\"Accuracy: \",accuracy*100)\n",
    "  print(\"k=\",k,\"Precision score: \",precision_score(validation_label, predicted_label,  average='macro'))\n",
    "  print(\"k=\",k,\"Recall score: \",recall_score(validation_label, predicted_label,  average='macro'))\n",
    "  f1 = f1_score(validation_label, predicted_label,  average='macro')\n",
    "  print(\"k=\",k,\"F1 score: \",f1)\n",
    "  print(confusion_matrix(validation_label, predicted_label))\n",
    "  scores_m.append(accuracy)\n",
    "  f1_scores_m.append(f1)"
   ]
  },
  {
   "cell_type": "markdown",
   "metadata": {
    "colab_type": "text",
    "id": "S_AjnehqkBpA"
   },
   "source": [
    "### **Plotting**\n",
    "Plotting Accuracy for different values of k, using manhattan distance as the distance metrics."
   ]
  },
  {
   "cell_type": "code",
   "execution_count": 0,
   "metadata": {
    "colab": {
     "base_uri": "https://localhost:8080/",
     "height": 312
    },
    "colab_type": "code",
    "executionInfo": {
     "elapsed": 1078,
     "status": "ok",
     "timestamp": 1580507554289,
     "user": {
      "displayName": "SAGNIK GUPTA",
      "photoUrl": "",
      "userId": "16842988992457144742"
     },
     "user_tz": -330
    },
    "id": "PPkSz_zfP8zY",
    "outputId": "af5ff9f7-4571-46eb-bb62-598d90b646b7"
   },
   "outputs": [
    {
     "data": {
      "text/plain": [
       "Text(0.5, 1.0, 'Accuracy at different k for Manhattan distance metrics')"
      ]
     },
     "execution_count": 21,
     "metadata": {
      "tags": []
     },
     "output_type": "execute_result"
    },
    {
     "data": {
      "image/png": "[encoded data removed]",
      "text/plain": [
       "<Figure size 432x288 with 1 Axes>"
      ]
     },
     "metadata": {
      "tags": []
     },
     "output_type": "display_data"
    }
   ],
   "source": [
    "k=[3,4,5,6,7,8,9]\n",
    "plt.plot(k, scores_m)\n",
    "plt.xlabel('Value of K for KNN')\n",
    "plt.ylabel('Testing Accuracy')\n",
    "plt.title(\"Accuracy at different k for Manhattan distance metrics\")"
   ]
  },
  {
   "cell_type": "markdown",
   "metadata": {
    "colab_type": "text",
    "id": "kNpWsYmVkDkg"
   },
   "source": [
    "### **Plotting**\n",
    "Plotting F1 scores for different values of k, using manhattan distance as the distance metrics."
   ]
  },
  {
   "cell_type": "code",
   "execution_count": 0,
   "metadata": {
    "colab": {
     "base_uri": "https://localhost:8080/",
     "height": 312
    },
    "colab_type": "code",
    "executionInfo": {
     "elapsed": 1077,
     "status": "ok",
     "timestamp": 1580507578420,
     "user": {
      "displayName": "SAGNIK GUPTA",
      "photoUrl": "",
      "userId": "16842988992457144742"
     },
     "user_tz": -330
    },
    "id": "61ng-WK1QFey",
    "outputId": "d4d2b0fe-712f-4054-d5e8-0d8d1fd79f48"
   },
   "outputs": [
    {
     "data": {
      "text/plain": [
       "Text(0.5, 1.0, 'F1 scores at different k for Manhattan distance metrics')"
      ]
     },
     "execution_count": 22,
     "metadata": {
      "tags": []
     },
     "output_type": "execute_result"
    },
    {
     "data": {
      "image/png": "[encoded data removed]",
      "text/plain": [
       "<Figure size 432x288 with 1 Axes>"
      ]
     },
     "metadata": {
      "tags": []
     },
     "output_type": "display_data"
    }
   ],
   "source": [
    "k=[3,4,5,6,7,8,9]\n",
    "plt.plot(k, f1_scores_m)\n",
    "plt.xlabel('Value of K for KNN')\n",
    "plt.ylabel('Testing F1 score')\n",
    "plt.title(\"F1 scores at different k for Manhattan distance metrics\")"
   ]
  },
  {
   "cell_type": "markdown",
   "metadata": {
    "colab_type": "text",
    "id": "64bQjo01o-Wl"
   },
   "source": [
    "### **Plotting**\n",
    "Plotting Accuracy for different values of k, using euclidean vs manhattan distance as the distance metrics."
   ]
  },
  {
   "cell_type": "code",
   "execution_count": 0,
   "metadata": {
    "colab": {
     "base_uri": "https://localhost:8080/",
     "height": 312
    },
    "colab_type": "code",
    "executionInfo": {
     "elapsed": 1185,
     "status": "ok",
     "timestamp": 1580507587563,
     "user": {
      "displayName": "SAGNIK GUPTA",
      "photoUrl": "",
      "userId": "16842988992457144742"
     },
     "user_tz": -330
    },
    "id": "ii92WtQWf4im",
    "outputId": "15ab1d13-e8ec-4cc8-a475-f9c4c99fecb5"
   },
   "outputs": [
    {
     "data": {
      "text/plain": [
       "<matplotlib.legend.Legend at 0x7f6064810e10>"
      ]
     },
     "execution_count": 23,
     "metadata": {
      "tags": []
     },
     "output_type": "execute_result"
    },
    {
     "data": {
      "image/png": "[encoded data removed]",
      "text/plain": [
       "<Figure size 432x288 with 1 Axes>"
      ]
     },
     "metadata": {
      "tags": []
     },
     "output_type": "display_data"
    }
   ],
   "source": [
    "k = [3,4,5,6,7,8,9]\n",
    "plt.plot(k, scores_e, label = \"Euclidean\")\n",
    "plt.plot(k,scores_m, label = \"Manhattan\")\n",
    "plt.xlabel('Value of K for KNN')\n",
    "plt.ylabel('Testing Accuracy')\n",
    "plt.title(\"Accuracy at different k values for Euclidean vs Manhattan distance metrics\")\n",
    "plt.legend()"
   ]
  },
  {
   "cell_type": "markdown",
   "metadata": {
    "colab_type": "text",
    "id": "WPDetZ5io2GI"
   },
   "source": [
    "### **Plotting**\n",
    "Plotting F1 scores for different values of k, using euclidean vs manhattan distance as the distance metrics."
   ]
  },
  {
   "cell_type": "code",
   "execution_count": 0,
   "metadata": {
    "colab": {
     "base_uri": "https://localhost:8080/",
     "height": 312
    },
    "colab_type": "code",
    "executionInfo": {
     "elapsed": 985,
     "status": "ok",
     "timestamp": 1580507848545,
     "user": {
      "displayName": "SAGNIK GUPTA",
      "photoUrl": "",
      "userId": "16842988992457144742"
     },
     "user_tz": -330
    },
    "id": "J55VaTwDm1ko",
    "outputId": "1feec2df-e905-4478-d7ac-1922df33f96a"
   },
   "outputs": [
    {
     "data": {
      "text/plain": [
       "<matplotlib.legend.Legend at 0x7f6064076cf8>"
      ]
     },
     "execution_count": 26,
     "metadata": {
      "tags": []
     },
     "output_type": "execute_result"
    },
    {
     "data": {
      "image/png": "[encoded data removed]",
      "text/plain": [
       "<Figure size 432x288 with 1 Axes>"
      ]
     },
     "metadata": {
      "tags": []
     },
     "output_type": "display_data"
    }
   ],
   "source": [
    "k = [3,4,5,6,7,8,9]\n",
    "plt.plot(k, f1_scores_e, label = \"Euclidean\")\n",
    "plt.plot(k,f1_scores_m, label = \"Manhattan\")\n",
    "plt.xlabel('Value of K for KNN')\n",
    "plt.ylabel('Testing F1 scores')\n",
    "plt.title(\"F1 scores at different k values for Euclidean vs Manhattan distance metrics\")\n",
    "plt.legend()"
   ]
  },
  {
   "cell_type": "markdown",
   "metadata": {
    "colab_type": "text",
    "id": "HOzuIq4EzuQu"
   },
   "source": [
    "## **Predictions using Random guessing**\n",
    "We use random guessing to predict the labels and get very poor accuracy and F1 score."
   ]
  },
  {
   "cell_type": "code",
   "execution_count": 21,
   "metadata": {
    "colab": {
     "base_uri": "https://localhost:8080/",
     "height": 1000
    },
    "colab_type": "code",
    "executionInfo": {
     "elapsed": 1705,
     "status": "ok",
     "timestamp": 1580578269384,
     "user": {
      "displayName": "SAGNIK GUPTA",
      "photoUrl": "",
      "userId": "16842988992457144742"
     },
     "user_tz": -330
    },
    "id": "aij_wBtvwk7Z",
    "outputId": "fd3cbc15-0aef-4b5f-dd26-f6116a388782"
   },
   "outputs": [
    {
     "name": "stdout",
     "output_type": "stream",
     "text": [
      "k= 3 Accuracy:  10.375\n",
      "k= 3 Precision score:  0.10306257160092916\n",
      "k= 3 Recall score:  0.10301030728586298\n",
      "k= 3 F1 score:  0.1029663000712289\n",
      "[[42 45 28 40 54 43 33 53 47 30]\n",
      " [39 58 43 51 48 39 34 50 47 36]\n",
      " [45 41 38 43 36 31 43 24 40 43]\n",
      " [39 40 42 49 38 37 44 35 39 45]\n",
      " [36 46 36 41 35 35 37 43 30 37]\n",
      " [32 37 38 33 35 30 27 38 38 42]\n",
      " [46 46 34 32 31 26 39 51 47 37]\n",
      " [57 46 44 43 50 30 41 52 38 41]\n",
      " [42 39 43 39 48 34 27 32 37 34]\n",
      " [36 61 40 34 35 29 50 48 48 35]]\n",
      "k= 4 Accuracy:  10.375\n",
      "k= 4 Precision score:  0.10377711810282483\n",
      "k= 4 Recall score:  0.1034479149685863\n",
      "k= 4 F1 score:  0.10350639394557823\n",
      "[[41 45 44 37 38 26 45 46 43 50]\n",
      " [44 60 47 36 34 39 41 37 46 61]\n",
      " [40 35 34 33 36 41 47 44 37 37]\n",
      " [38 46 32 50 38 27 44 39 53 41]\n",
      " [47 32 35 40 41 24 37 34 52 34]\n",
      " [41 49 25 42 24 40 28 29 33 39]\n",
      " [41 46 40 39 42 31 37 45 38 30]\n",
      " [40 55 43 55 37 43 43 41 42 43]\n",
      " [31 47 36 24 40 38 41 36 30 52]\n",
      " [35 47 46 26 45 52 40 34 50 41]]\n",
      "k= 5 Accuracy:  9.725\n",
      "k= 5 Precision score:  0.09678181203971495\n",
      "k= 5 Recall score:  0.09696136735832135\n",
      "k= 5 F1 score:  0.09680339567211468\n",
      "[[48 40 53 30 58 35 37 50 23 41]\n",
      " [49 43 43 49 41 35 36 38 63 48]\n",
      " [38 43 42 38 31 31 40 42 35 44]\n",
      " [42 48 42 33 35 43 48 46 28 43]\n",
      " [45 42 37 32 36 36 39 37 37 35]\n",
      " [36 35 36 35 30 29 29 49 44 27]\n",
      " [59 45 27 46 33 28 31 51 39 30]\n",
      " [43 56 38 46 40 43 49 46 40 41]\n",
      " [43 46 44 32 38 25 30 40 38 39]\n",
      " [46 53 50 32 36 28 39 48 41 43]]\n",
      "k= 6 Accuracy:  8.799999999999999\n",
      "k= 6 Precision score:  0.08765506976506421\n",
      "k= 6 Recall score:  0.08751108277234235\n",
      "k= 6 F1 score:  0.08748512864801243\n",
      "[[32 52 39 48 44 30 42 38 50 40]\n",
      " [54 42 34 51 52 49 44 42 37 40]\n",
      " [39 46 37 37 31 35 37 40 44 38]\n",
      " [48 50 40 39 42 33 40 30 34 52]\n",
      " [39 35 35 38 25 32 35 43 50 44]\n",
      " [39 46 32 39 29 23 38 30 36 38]\n",
      " [37 43 43 33 41 46 31 39 40 36]\n",
      " [43 43 45 43 41 36 54 49 49 39]\n",
      " [41 52 34 38 34 28 32 34 42 40]\n",
      " [40 50 46 47 41 37 42 41 40 32]]\n",
      "k= 7 Accuracy:  10.475\n",
      "k= 7 Precision score:  0.10416233324946514\n",
      "k= 7 Recall score:  0.10427722851550254\n",
      "k= 7 F1 score:  0.1041773274910088\n",
      "[[40 53 39 41 39 36 38 47 36 46]\n",
      " [48 55 39 40 47 37 41 47 50 41]\n",
      " [44 47 37 41 39 36 32 38 37 33]\n",
      " [45 52 33 50 33 34 45 29 40 47]\n",
      " [34 46 38 30 32 27 34 47 41 47]\n",
      " [41 36 41 42 33 31 29 44 25 28]\n",
      " [53 37 37 30 32 32 49 45 29 45]\n",
      " [45 56 33 38 41 37 52 44 46 50]\n",
      " [33 40 40 39 29 39 50 38 38 29]\n",
      " [39 45 26 47 40 32 52 56 36 43]]\n",
      "k= 8 Accuracy:  9.975000000000001\n",
      "k= 8 Precision score:  0.09897737404086189\n",
      "k= 8 Recall score:  0.09915157288180722\n",
      "k= 8 F1 score:  0.09901217265961969\n",
      "[[48 40 40 35 44 39 33 53 45 38]\n",
      " [54 52 38 45 35 36 45 54 40 46]\n",
      " [49 43 42 33 34 33 39 39 40 32]\n",
      " [29 50 41 37 39 38 44 39 44 47]\n",
      " [39 42 37 36 30 35 26 44 43 44]\n",
      " [39 41 43 38 29 27 20 32 33 48]\n",
      " [32 33 41 37 38 43 45 39 38 43]\n",
      " [52 51 49 45 45 31 47 35 43 44]\n",
      " [34 44 45 37 38 29 40 39 29 40]\n",
      " [42 50 38 39 39 35 37 39 43 54]]\n",
      "k= 9 Accuracy:  10.8\n",
      "k= 9 Precision score:  0.10745629187626107\n",
      "k= 9 Recall score:  0.10777862071893278\n",
      "k= 9 F1 score:  0.10759060208627488\n",
      "[[43 42 34 47 36 34 43 37 45 54]\n",
      " [42 65 45 45 40 35 35 53 35 50]\n",
      " [33 37 47 49 30 39 42 36 36 35]\n",
      " [33 40 45 48 45 41 31 50 36 39]\n",
      " [45 42 25 36 31 32 35 52 41 37]\n",
      " [36 40 32 36 36 43 29 31 35 32]\n",
      " [49 60 38 39 37 39 33 42 25 27]\n",
      " [47 41 41 42 46 39 46 47 42 51]\n",
      " [37 39 32 40 29 31 38 59 43 27]\n",
      " [49 47 36 38 43 30 49 51 41 32]]\n"
     ]
    }
   ],
   "source": [
    "scores_re = []\n",
    "f1_scores_re = []\n",
    "# print(labels)\n",
    "for k in range(3,10):\n",
    "  prediction = []\n",
    "  for row in validation_data:\n",
    "    prediction.append(random_guessing())\n",
    "  # print(prediction)\n",
    "  predicted_label = np.array(prediction)\n",
    "  accuracy = accuracy_score(validation_label, predicted_label)\n",
    "  print(\"k=\",k,\"Accuracy: \",accuracy*100)\n",
    "  print(\"k=\",k,\"Precision score: \",precision_score(validation_label, predicted_label,  average='macro'))\n",
    "  print(\"k=\",k,\"Recall score: \",recall_score(validation_label, predicted_label,  average='macro'))\n",
    "  f1 = f1_score(validation_label, predicted_label,  average='macro')\n",
    "  print(\"k=\",k,\"F1 score: \",f1)\n",
    "  print(confusion_matrix(validation_label, predicted_label))\n",
    "  scores_re.append(accuracy)\n",
    "  f1_scores_re.append(f1)"
   ]
  },
  {
   "cell_type": "markdown",
   "metadata": {
    "colab_type": "text",
    "id": "3RsoapF_Mw6B"
   },
   "source": [
    "## **Predictions on test data**\n",
    "Using the value of k=3 , which gave us the best result in our training data,we test our model on the test data. We find out the accuracy score, precision score, recall score, F1 score and display the confusion matrix.\n",
    "*   Accuracy: 96.89%\n",
    "*   Precision score: 0.970\n",
    "*   Recall score: 0.968\n",
    "*   F1 score: 0.969"
   ]
  },
  {
   "cell_type": "code",
   "execution_count": 0,
   "metadata": {
    "colab": {},
    "colab_type": "code",
    "id": "tO9l1xEzPiUE"
   },
   "outputs": [],
   "source": [
    "data = genfromtxt('/content/drive/My Drive/Assignment1 Dataset//Datasets/q1/train.csv', delimiter=',')\n",
    "validation_data = genfromtxt('/content/drive/My Drive/Assignment1 Dataset//Datasets/q1/test.csv', delimiter=',')\n",
    "validation_label = genfromtxt('/content/drive/My Drive/Assignment1 Dataset//Datasets/q1/test_labels.csv', delimiter=',')\n",
    "train_data = data[:, 1:]\n",
    "train_label = data[:, 0]"
   ]
  },
  {
   "cell_type": "code",
   "execution_count": 0,
   "metadata": {
    "colab": {
     "base_uri": "https://localhost:8080/",
     "height": 260
    },
    "colab_type": "code",
    "executionInfo": {
     "elapsed": 50813,
     "status": "ok",
     "timestamp": 1580508026707,
     "user": {
      "displayName": "SAGNIK GUPTA",
      "photoUrl": "",
      "userId": "16842988992457144742"
     },
     "user_tz": -330
    },
    "id": "5IFhgNyrJRyw",
    "outputId": "f0defc28-8418-4008-d8ac-6832469f48a7"
   },
   "outputs": [
    {
     "name": "stdout",
     "output_type": "stream",
     "text": [
      "k=  3 Accuracy:  96.89999999999999\n",
      "k=  3 0.9703788802695111\n",
      "k=  3 0.9685217759650383\n",
      "k=  3 0.9690533807712107\n",
      "[[ 93   0   0   0   0   0   1   0   0   0]\n",
      " [  0 101   0   0   0   0   0   0   0   0]\n",
      " [  0   0 107   0   0   0   0   1   0   0]\n",
      " [  0   0   0 107   0   0   1   0   0   0]\n",
      " [  0   1   0   0  83   0   1   0   0   6]\n",
      " [  0   0   0   1   0  79   0   0   1   0]\n",
      " [  0   0   0   0   0   0 101   0   0   0]\n",
      " [  0   2   1   0   1   0   0  97   0   3]\n",
      " [  1   0   1   3   0   2   0   0  93   0]\n",
      " [  1   0   1   0   0   0   0   2   0 108]]\n"
     ]
    }
   ],
   "source": [
    "k=3\n",
    "prediction = []\n",
    "for row in validation_data:\n",
    "  dis = euclidean_distance(row) \n",
    "  prediction.append(find_majority_label(k,dis))\n",
    "predicted_label = np.array(prediction)\n",
    "# print(predicted_label)\n",
    "print(\"k= \",k,\"Accuracy: \",accuracy_score(validation_label, predicted_label)*100)\n",
    "print(\"k= \",k,precision_score(validation_label, predicted_label,  average='macro'))\n",
    "print(\"k= \",k,recall_score(validation_label, predicted_label,  average='macro'))\n",
    "print(\"k= \",k,f1_score(validation_label, predicted_label,  average='macro'))\n",
    "print(confusion_matrix(validation_label, predicted_label))"
   ]
  },
  {
   "cell_type": "markdown",
   "metadata": {
    "colab_type": "text",
    "id": "nk_4YKjI9IM8"
   },
   "source": [
    "## **Using scikit-learn’s kNN classifier**"
   ]
  },
  {
   "cell_type": "code",
   "execution_count": 0,
   "metadata": {
    "colab": {},
    "colab_type": "code",
    "id": "YFI_M-OQ9Uvf"
   },
   "outputs": [],
   "source": [
    "from sklearn.neighbors import KNeighborsClassifier\n",
    "import numpy as np\n",
    "from numpy import genfromtxt\n",
    "from sklearn.metrics import accuracy_score"
   ]
  },
  {
   "cell_type": "code",
   "execution_count": 0,
   "metadata": {
    "colab": {
     "base_uri": "https://localhost:8080/",
     "height": 34
    },
    "colab_type": "code",
    "executionInfo": {
     "elapsed": 35458,
     "status": "ok",
     "timestamp": 1580508259204,
     "user": {
      "displayName": "SAGNIK GUPTA",
      "photoUrl": "",
      "userId": "16842988992457144742"
     },
     "user_tz": -330
    },
    "id": "UYIv5PaR8Tjb",
    "outputId": "d5abb9a0-80c1-443d-8df7-7aeadf6dd9b9"
   },
   "outputs": [
    {
     "data": {
      "text/plain": [
       "0.967"
      ]
     },
     "execution_count": 30,
     "metadata": {
      "tags": []
     },
     "output_type": "execute_result"
    }
   ],
   "source": [
    "neigh = KNeighborsClassifier(n_neighbors=3)\n",
    "neigh.fit(train_data, train_label)\n",
    "knn_pred = neigh.predict(validation_data)\n",
    "accuracy_score(validation_label,knn_pred)"
   ]
  },
  {
   "cell_type": "markdown",
   "metadata": {
    "colab_type": "text",
    "id": "rO0IlAMOHXxp"
   },
   "source": [
    "## **Comparison**\n",
    "Using the KNN Classifier library of sklearn, we get an accuracy of **96.7%** for the k value of 4. We had seen that we got an accuracy of **96.89%** using our own model.\n",
    "**Thus can conclude that our model performs better.**"
   ]
  }
 ],
 "metadata": {
  "accelerator": "GPU",
  "colab": {
   "authorship_tag": "ABX9TyNXBZOk7Trml51Jso1yzzu+",
   "collapsed_sections": [],
   "name": "q1.ipynb",
   "provenance": []
  },
  "kernelspec": {
   "display_name": "Python 3",
   "language": "python",
   "name": "python3"
  },
  "language_info": {
   "codemirror_mode": {
    "name": "ipython",
    "version": 3
   },
   "file_extension": ".py",
   "mimetype": "text/x-python",
   "name": "python",
   "nbconvert_exporter": "python",
   "pygments_lexer": "ipython3",
   "version": "3.6.8"
  }
 },
 "nbformat": 4,
 "nbformat_minor": 1
}
